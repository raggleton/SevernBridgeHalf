{
 "cells": [
  {
   "cell_type": "markdown",
   "metadata": {},
   "source": [
    "Let's take all the results from the Severn Bridge Half and do some analysis! This is an example of basic scraping and data analysis."
   ]
  },
  {
   "cell_type": "code",
   "execution_count": 105,
   "metadata": {
    "collapsed": false
   },
   "outputs": [],
   "source": [
    "# for parsing HTML page\n",
    "import requests\n",
    "from bs4 import BeautifulSoup\n",
    "from datetime import time, timedelta, datetime\n",
    "# for easy import/export\n",
    "import json\n",
    "# for analysis\n",
    "import pandas as pd\n",
    "import numpy as np\n",
    "import matplotlib.pyplot as plt\n",
    "import matplotlib as mpl\n",
    "import seaborn"
   ]
  },
  {
   "cell_type": "code",
   "execution_count": 148,
   "metadata": {
    "collapsed": false
   },
   "outputs": [
    {
     "data": {
      "text/plain": [
       "('0.16.2', '2.7.0', '1.9.2', '1.4.3', '0.6.0')"
      ]
     },
     "execution_count": 148,
     "metadata": {},
     "output_type": "execute_result"
    }
   ],
   "source": [
    "pd.__version__, requests.__version__, np.__version__, mpl.__version__, seaborn.__version__"
   ]
  },
  {
   "cell_type": "code",
   "execution_count": 106,
   "metadata": {
    "collapsed": false
   },
   "outputs": [],
   "source": [
    "seaborn.set_style(\"whitegrid\")\n",
    "\n",
    "%matplotlib inline\n",
    "# get_ipython().magic(u'pylab inline')\n",
    "mpl.rcParams['figure.figsize'] = (14.0, 6.0)  # default size of plots\n",
    "mpl.rcParams['axes.labelsize'] = 20\n",
    "mpl.rcParams['xtick.labelsize'] = 16\n",
    "mpl.rcParams['ytick.labelsize'] = 16\n",
    "# mpl.rcParams['xtick.major.size'] = 10\n",
    "# mpl.rcParams['ytick.major.size'] = 10\n",
    "# mpl.rcParams['xtick.minor.size'] = 5\n",
    "# mpl.rcParams['ytick.minor.size'] = 5\n",
    "mpl.rcParams['legend.frameon'] = True\n",
    "mpl.rcParams['legend.framealpha'] = 0.9\n",
    "mpl.rcParams['legend.fontsize'] = 16\n",
    "mpl.rcParams['legend.scatterpoints'] = 1"
   ]
  },
  {
   "cell_type": "markdown",
   "metadata": {},
   "source": [
    "# Scraping the data "
   ]
  },
  {
   "cell_type": "markdown",
   "metadata": {},
   "source": [
    "First, we need to scrape the table of results from the website. Let's use `requests` to pull the html, and `BeautifulSoup4` to traverse the HTML elements."
   ]
  },
  {
   "cell_type": "code",
   "execution_count": 70,
   "metadata": {
    "collapsed": false
   },
   "outputs": [],
   "source": [
    "# Get the page HTML, and the table element\n",
    "page = requests.get(r\"https://www.fullonsport.com/event/5834/results\")\n",
    "# soup = BeautifulSoup(page.text, 'html.parser')  # included parser\n",
    "soup = BeautifulSoup(page.text, 'lxml')  # lxml parser\n",
    "# Get the table of results\n",
    "raw_table = soup.find(id='my-results')"
   ]
  },
  {
   "cell_type": "code",
   "execution_count": 187,
   "metadata": {
    "collapsed": false
   },
   "outputs": [
    {
     "name": "stdout",
     "output_type": "stream",
     "text": [
      "Columns: ['Position', 'Race No', 'Firstname', 'Lastname', 'Club', 'Club Pos', 'Category', 'Cat Pos', 'Time', 'Chip Time', 'Status']\n"
     ]
    }
   ],
   "source": [
    "# Get the table column names\n",
    "columns = [str(x.string) for x in raw_table.find('thead').findAll('th')]\n",
    "print 'Columns:', columns"
   ]
  },
  {
   "cell_type": "code",
   "execution_count": 208,
   "metadata": {
    "collapsed": true
   },
   "outputs": [],
   "source": [
    "# Make a class to hold the runner info\n",
    "\n",
    "class Runner(object):\n",
    "    \"\"\"Class to describe entry.\"\"\"\n",
    "    def __init__(self, gun_position, race_num, firstname, surname, club, club_pos, \n",
    "                 category, category_pos, gun_time, chip_time, status):\n",
    "        self.gun_position = int(gun_position) # based off gun time\n",
    "        self.race_num = int(race_num)\n",
    "#         self.firstname = firstname\n",
    "#         self.surname = surname\n",
    "        self.name = \"%s %s\" % (firstname, surname)\n",
    "#         self.club = club\n",
    "#         self.club_pos = int(club_pos)\n",
    "        self.category = category\n",
    "        fmt = '%H:%M:%S'\n",
    "        # Gun time is the time differencce between the gun firing and the runner's finish\n",
    "        # incase there is a missing entry\n",
    "        self.gun_datetime = gun_time\n",
    "#         self.gun_datetime = datetime.strptime(gun_time, fmt) if gun_time else datetime.max  \n",
    "#         self.gun_time = self.gun_datetime.time()\n",
    "        # Chip time is the time difference between when runner crossing the start and finish lines\n",
    "        self.chip_datetime = chip_time\n",
    "#         self.chip_datetime = datetime.strptime(chip_time, fmt) if chip_time else datetime.max\n",
    "#         self.chip_time = self.chip_datetime.time()\n",
    "#         self.gun_chip_delta = self.gun_datetime - self.chip_datetime # difference between gun time and chip time\n",
    "        self.status = status\n",
    "    \n",
    "    def json(self):\n",
    "        \"\"\"Method to convert to JSON output\"\"\"\n",
    "        pass"
   ]
  },
  {
   "cell_type": "code",
   "execution_count": 209,
   "metadata": {
    "collapsed": false,
    "scrolled": false
   },
   "outputs": [],
   "source": [
    "# Let's get all the rows!\n",
    "runner_table = []\n",
    "for child in raw_table.children:\n",
    "    if child.name != 'tr':\n",
    "        continue\n",
    "    row = {k:str(v.text) for k, v in zip(columns, child.children)}\n",
    "#     print row\n",
    "    runner = Runner(gun_position=row['Position'], race_num=row['Race No'], \n",
    "                    firstname=row['Firstname'], surname=row['Lastname'], \n",
    "                    club=row['Club'], club_pos=row['Club Pos'], \n",
    "                    category=row['Category'], category_pos=row['Cat Pos'], \n",
    "                    gun_time=row['Time'], chip_time=row['Chip Time'], \n",
    "                    status=row['Status'])\n",
    "    runner_table.append(runner)\n",
    "    "
   ]
  },
  {
   "cell_type": "code",
   "execution_count": 210,
   "metadata": {
    "collapsed": false
   },
   "outputs": [
    {
     "name": "stdout",
     "output_type": "stream",
     "text": [
      "Steve Way\n"
     ]
    },
    {
     "data": {
      "text/plain": [
       "{'category': 'M40+',\n",
       " 'chip_datetime': '01:12:39',\n",
       " 'gun_datetime': '01:12:39',\n",
       " 'gun_position': 1,\n",
       " 'name': 'Steve Way',\n",
       " 'race_num': 2513,\n",
       " 'status': 'RES'}"
      ]
     },
     "execution_count": 210,
     "metadata": {},
     "output_type": "execute_result"
    }
   ],
   "source": [
    "print runner_table[0].name\n",
    "runner_table[0].__dict__"
   ]
  },
  {
   "cell_type": "markdown",
   "metadata": {},
   "source": [
    "# Analysis - making the DataFrame"
   ]
  },
  {
   "cell_type": "markdown",
   "metadata": {},
   "source": [
    "So now we have all the data in the table in our objects, stored in the list `runner_table`. This isn't very convenient for analysis though - let's uses a `pandas` DataFrame instead!"
   ]
  },
  {
   "cell_type": "code",
   "execution_count": 238,
   "metadata": {
    "collapsed": false
   },
   "outputs": [
    {
     "name": "stdout",
     "output_type": "stream",
     "text": [
      "Index([u'category', u'status', u'name', u'gun_position', u'gun_datetime',\n",
      "       u'chip_datetime', u'race_num'],\n",
      "      dtype='object')\n"
     ]
    },
    {
     "data": {
      "text/html": [
       "<div>\n",
       "<table border=\"1\" class=\"dataframe\">\n",
       "  <thead>\n",
       "    <tr style=\"text-align: right;\">\n",
       "      <th></th>\n",
       "      <th>category</th>\n",
       "      <th>status</th>\n",
       "      <th>name</th>\n",
       "      <th>gun_position</th>\n",
       "      <th>gun_datetime</th>\n",
       "      <th>chip_datetime</th>\n",
       "      <th>race_num</th>\n",
       "    </tr>\n",
       "  </thead>\n",
       "  <tbody>\n",
       "    <tr>\n",
       "      <th>0</th>\n",
       "      <td>M40+</td>\n",
       "      <td>RES</td>\n",
       "      <td>Steve Way</td>\n",
       "      <td>1</td>\n",
       "      <td>01:12:39</td>\n",
       "      <td>01:12:39</td>\n",
       "      <td>2513</td>\n",
       "    </tr>\n",
       "    <tr>\n",
       "      <th>1</th>\n",
       "      <td>M40+</td>\n",
       "      <td>RES</td>\n",
       "      <td>Paul Griffiths</td>\n",
       "      <td>2</td>\n",
       "      <td>01:13:23</td>\n",
       "      <td>01:13:23</td>\n",
       "      <td>941</td>\n",
       "    </tr>\n",
       "    <tr>\n",
       "      <th>2</th>\n",
       "      <td>Male Senior</td>\n",
       "      <td>RES</td>\n",
       "      <td>Stephen Paterson</td>\n",
       "      <td>3</td>\n",
       "      <td>01:13:59</td>\n",
       "      <td>01:13:59</td>\n",
       "      <td>1836</td>\n",
       "    </tr>\n",
       "    <tr>\n",
       "      <th>3</th>\n",
       "      <td>Male Senior</td>\n",
       "      <td>RES</td>\n",
       "      <td>stuart hawkes</td>\n",
       "      <td>4</td>\n",
       "      <td>01:14:43</td>\n",
       "      <td>01:14:42</td>\n",
       "      <td>1025</td>\n",
       "    </tr>\n",
       "    <tr>\n",
       "      <th>4</th>\n",
       "      <td>M45+</td>\n",
       "      <td>RES</td>\n",
       "      <td>Tony Wright</td>\n",
       "      <td>5</td>\n",
       "      <td>01:17:09</td>\n",
       "      <td>01:17:08</td>\n",
       "      <td>2795</td>\n",
       "    </tr>\n",
       "  </tbody>\n",
       "</table>\n",
       "</div>"
      ],
      "text/plain": [
       "      category status              name  gun_position gun_datetime  \\\n",
       "0         M40+    RES         Steve Way             1     01:12:39   \n",
       "1         M40+    RES    Paul Griffiths             2     01:13:23   \n",
       "2  Male Senior    RES  Stephen Paterson             3     01:13:59   \n",
       "3  Male Senior    RES     stuart hawkes             4     01:14:43   \n",
       "4         M45+    RES       Tony Wright             5     01:17:09   \n",
       "\n",
       "  chip_datetime  race_num  \n",
       "0      01:12:39      2513  \n",
       "1      01:13:23       941  \n",
       "2      01:13:59      1836  \n",
       "3      01:14:42      1025  \n",
       "4      01:17:08      2795  "
      ]
     },
     "execution_count": 238,
     "metadata": {},
     "output_type": "execute_result"
    }
   ],
   "source": [
    "df = pd.DataFrame(data=[x.__dict__ for x in runner_table], \n",
    "                  columns=runner_table[0].__dict__.keys())\n",
    "df = df[df.chip_datetime != '']\n",
    "print df.columns\n",
    "df.head()"
   ]
  },
  {
   "cell_type": "code",
   "execution_count": 231,
   "metadata": {
    "collapsed": false
   },
   "outputs": [
    {
     "name": "stdout",
     "output_type": "stream",
     "text": [
      "2304 runners\n"
     ]
    }
   ],
   "source": [
    "num_runners = len(df.index)\n",
    "print num_runners, 'runners'"
   ]
  },
  {
   "cell_type": "markdown",
   "metadata": {},
   "source": [
    "We need to convert all the time elements to the correct type of object."
   ]
  },
  {
   "cell_type": "code",
   "execution_count": 239,
   "metadata": {
    "collapsed": false
   },
   "outputs": [],
   "source": [
    "time_converter = np.vectorize(lambda x : pd.to_datetime(x, format='%H:%M:%S'))\n",
    "df.chip_datetime = df.chip_datetime.apply(time_converter)\n",
    "df.gun_datetime = df.gun_datetime.apply(time_converter)"
   ]
  },
  {
   "cell_type": "markdown",
   "metadata": {},
   "source": [
    "One thing we need to recalculate is position. The default 'position' we scraped is based off the _gun_ time, not the _chip_ time (which is much fairer)."
   ]
  },
  {
   "cell_type": "code",
   "execution_count": 241,
   "metadata": {
    "collapsed": false,
    "scrolled": false
   },
   "outputs": [],
   "source": [
    "df = df.sort_index(by=['chip_datetime']).reset_index(drop=True)\n",
    "df['chip_position'] = df.index + 1"
   ]
  },
  {
   "cell_type": "markdown",
   "metadata": {},
   "source": [
    "Now we can actually do some analysis!"
   ]
  },
  {
   "cell_type": "markdown",
   "metadata": {},
   "source": [
    "# Analysis - plots'n'stuff "
   ]
  },
  {
   "cell_type": "markdown",
   "metadata": {},
   "source": [
    "We can now start splitting, sorting, clustering, etc to find any potential patterns."
   ]
  },
  {
   "cell_type": "code",
   "execution_count": 242,
   "metadata": {
    "collapsed": true
   },
   "outputs": [],
   "source": [
    "# Split DataFrame into separate male and female DataFrames\n",
    "df_male = df[df.category.str.contains('M')]\n",
    "df_female = df[df.category.str.contains('F')]"
   ]
  },
  {
   "cell_type": "code",
   "execution_count": 244,
   "metadata": {
    "collapsed": false
   },
   "outputs": [
    {
     "data": {
      "image/png": "[encoded data removed]",
      "text/plain": [
       "<matplotlib.figure.Figure at 0x128792dd0>"
      ]
     },
     "metadata": {},
     "output_type": "display_data"
    }
   ],
   "source": [
    "pos = 'chip_position'\n",
    "nbins = 23\n",
    "lw = 0\n",
    "x_range = [0, 2300]\n",
    "normed = False\n",
    "plt.hist([df_male[pos].values, df_female[pos].values], \n",
    "         bins=nbins, stacked=True, histtype='barstacked',\n",
    "         label=['Male', 'Female'], lw=lw, range=x_range, \n",
    "         rwidth=0.9)\n",
    "plt.xlabel('Position (acc. to chip time)')\n",
    "plt.ylabel(\"N / bin\")\n",
    "# plt.xlim(right=2300 * 1.1)\n",
    "plt.legend(loc=0)\n",
    "plt.minorticks_on()"
   ]
  },
  {
   "cell_type": "code",
   "execution_count": null,
   "metadata": {
    "collapsed": true
   },
   "outputs": [],
   "source": []
  }
 ],
 "metadata": {
  "kernelspec": {
   "display_name": "Python 2",
   "language": "python",
   "name": "python2"
  },
  "language_info": {
   "codemirror_mode": {
    "name": "ipython",
    "version": 2
   },
   "file_extension": ".py",
   "mimetype": "text/x-python",
   "name": "python",
   "nbconvert_exporter": "python",
   "pygments_lexer": "ipython2",
   "version": "2.7.10"
  }
 },
 "nbformat": 4,
 "nbformat_minor": 0
}
