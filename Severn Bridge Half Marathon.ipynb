{
 "cells": [
  {
   "cell_type": "markdown",
   "metadata": {},
   "source": [
    "Let's take all the results from the Severn Bridge Half and do some analysis! This is an example of basic scraping and data analysis."
   ]
  },
  {
   "cell_type": "code",
   "execution_count": 37,
   "metadata": {
    "collapsed": false
   },
   "outputs": [
    {
     "data": {
      "application/javascript": [
       "$.getScript('https://kmahelona.github.io/ipython_notebook_goodies/ipython_notebook_toc.js')"
      ],
      "text/plain": [
       "<IPython.core.display.Javascript object>"
      ]
     },
     "metadata": {},
     "output_type": "display_data"
    }
   ],
   "source": [
    "%%javascript\n",
    "$.getScript('https://kmahelona.github.io/ipython_notebook_goodies/ipython_notebook_toc.js')"
   ]
  },
  {
   "cell_type": "markdown",
   "metadata": {},
   "source": [
    "<h1 id=\"tocheading\">Table of Contents</h1>\n",
    "<div id=\"toc\"></div>"
   ]
  },
  {
   "cell_type": "code",
   "execution_count": 5,
   "metadata": {
    "collapsed": true
   },
   "outputs": [],
   "source": [
    "# for parsing HTML page\n",
    "import requests\n",
    "from bs4 import BeautifulSoup\n",
    "from datetime import time, timedelta, datetime\n",
    "# for easy import/export\n",
    "# import json\n",
    "# for analysis\n",
    "import pandas as pd\n",
    "import numpy as np\n",
    "import matplotlib.pyplot as plt\n",
    "import matplotlib as mpl\n",
    "import matplotlib.dates as mdates\n",
    "from pprint import pprint"
   ]
  },
  {
   "cell_type": "code",
   "execution_count": 6,
   "metadata": {
    "collapsed": false
   },
   "outputs": [
    {
     "data": {
      "text/plain": [
       "('0.16.2', '2.7.0', '1.9.2', '1.4.3')"
      ]
     },
     "execution_count": 6,
     "metadata": {},
     "output_type": "execute_result"
    }
   ],
   "source": [
    "pd.__version__, requests.__version__, np.__version__, mpl.__version__"
   ]
  },
  {
   "cell_type": "code",
   "execution_count": 7,
   "metadata": {
    "collapsed": false
   },
   "outputs": [
    {
     "name": "stdout",
     "output_type": "stream",
     "text": [
      "0.6.0\n"
     ]
    }
   ],
   "source": [
    "import seaborn as sns\n",
    "print sns.__version__\n",
    "sns.set_style(\"whitegrid\")"
   ]
  },
  {
   "cell_type": "code",
   "execution_count": 8,
   "metadata": {
    "collapsed": false
   },
   "outputs": [
    {
     "name": "stdout",
     "output_type": "stream",
     "text": [
      "The autoreload extension is already loaded. To reload it, use:\n",
      "  %reload_ext autoreload\n"
     ]
    }
   ],
   "source": [
    "%matplotlib inline\n",
    "get_ipython().magic(u'load_ext autoreload')\n",
    "get_ipython().magic(u'autoreload 2')\n",
    "mpl.rcParams['figure.figsize'] = (14.0, 6.0)  # default size of plots\n",
    "mpl.rcParams['axes.labelsize'] = 20\n",
    "mpl.rcParams['xtick.labelsize'] = 16\n",
    "mpl.rcParams['ytick.labelsize'] = 16\n",
    "# mpl.rcParams['xtick.major.size'] = 10\n",
    "# mpl.rcParams['ytick.major.size'] = 10\n",
    "# mpl.rcParams['xtick.minor.size'] = 5\n",
    "# mpl.rcParams['ytick.minor.size'] = 5\n",
    "mpl.rcParams['legend.frameon'] = True\n",
    "mpl.rcParams['legend.framealpha'] = 0.9\n",
    "mpl.rcParams['legend.fontsize'] = 16\n",
    "mpl.rcParams['legend.scatterpoints'] = 1"
   ]
  },
  {
   "cell_type": "markdown",
   "metadata": {},
   "source": [
    "# Scraping the data "
   ]
  },
  {
   "cell_type": "markdown",
   "metadata": {},
   "source": [
    "First, we need to scrape the table of results from the website. Let's use `requests` to pull the result data, and use the JSON decoder. We also need the column headers from the HTML."
   ]
  },
  {
   "cell_type": "code",
   "execution_count": 9,
   "metadata": {
    "collapsed": false
   },
   "outputs": [],
   "source": [
    "# Get the table of restuls via a POST request\n",
    "# page = requests.get(r\"https://www.fullonsport.com/event/5834/results\")\n",
    "page = requests.get(r'https://www.fullonsport.com/event/5834/admin/getResultParticipants/')"
   ]
  },
  {
   "cell_type": "code",
   "execution_count": 10,
   "metadata": {
    "collapsed": false,
    "scrolled": false
   },
   "outputs": [
    {
     "name": "stdout",
     "output_type": "stream",
     "text": [
      "[u'164', u'2741', u'Andrew', u'Dickens', None, u'Pont-y-pwl runners', u'1', u'M45+', u'17', u'01:35:03', u'01:35:00', u'RES']\n"
     ]
    }
   ],
   "source": [
    "# What does a record look like?\n",
    "print page.json()['data'][0]"
   ]
  },
  {
   "cell_type": "code",
   "execution_count": 11,
   "metadata": {
    "collapsed": true
   },
   "outputs": [],
   "source": [
    "# Make an offline copy of the JSON data\n",
    "# import json\n",
    "# with open('results_dump.json', 'w') as outfile:\n",
    "#     json.dump(page.json(), outfile, indent=4)"
   ]
  },
  {
   "cell_type": "code",
   "execution_count": 12,
   "metadata": {
    "collapsed": false
   },
   "outputs": [
    {
     "name": "stdout",
     "output_type": "stream",
     "text": [
      "Columns: ['Position', 'Race No', 'Firstname', 'Lastname', 'Team', 'Club', 'Club Pos', 'Category', 'Cat Pos', 'Time', 'Chip Time', 'Status']\n"
     ]
    }
   ],
   "source": [
    "# Get the table column names\n",
    "webpage = requests.get(r\"https://www.fullonsport.com/event/5834/results\")\n",
    "soup = BeautifulSoup(webpage.text, 'lxml')  # lxml parser\n",
    "raw_table = soup.find(id='participant-table')\n",
    "columns = [str(x.string) for x in raw_table.find('thead').findAll('th')]\n",
    "print 'Columns:', columns"
   ]
  },
  {
   "cell_type": "code",
   "execution_count": 13,
   "metadata": {
    "collapsed": true
   },
   "outputs": [],
   "source": [
    "# Make a class to hold the runner info\n",
    "\n",
    "class Runner(object):\n",
    "    \"\"\"Class to describe entry.\"\"\"\n",
    "    def __init__(self, gun_position, race_num, firstname, surname, club, club_pos, \n",
    "                 category, category_pos, gun_time, chip_time, status):\n",
    "        self.gun_position = int(gun_position) # based off gun time\n",
    "        self.race_num = int(race_num)\n",
    "        self.name = \"%s %s\" % (firstname, surname)\n",
    "        self.category = category\n",
    "        fmt = '%H:%M:%S'\n",
    "        # Gun time is the time difference between the gun firing and the runner's finish\n",
    "        # incase there is a missing entry\n",
    "        self.gun_datetime = gun_time\n",
    "#         self.gun_datetime = datetime.strptime(gun_time, fmt) if gun_time else datetime.max  \n",
    "#         self.gun_time = self.gun_datetime.time()\n",
    "        # Chip time is the time difference between when runner crossing the start and finish lines\n",
    "        self.chip_datetime = chip_time\n",
    "#         self.chip_datetime = datetime.strptime(chip_time, fmt) if chip_time else datetime.max\n",
    "#         self.chip_time = self.chip_datetime.time()\n",
    "#         self.gun_chip_delta = self.gun_datetime - self.chip_datetime # difference between gun time and chip time\n",
    "        self.status = status"
   ]
  },
  {
   "cell_type": "code",
   "execution_count": 14,
   "metadata": {
    "collapsed": false,
    "scrolled": false
   },
   "outputs": [],
   "source": [
    "# Let's get all the rows!\n",
    "runner_table = []\n",
    "for entry in page.json()['data']:\n",
    "    row = {k: v for k, v in zip(columns, entry)}\n",
    "#     print row\n",
    "    runner = Runner(gun_position=row['Position'], race_num=row['Race No'], \n",
    "                    firstname=row['Firstname'], surname=row['Lastname'], \n",
    "                    club=row['Club'], club_pos=row['Club Pos'], \n",
    "                    category=row['Category'], category_pos=row['Cat Pos'], \n",
    "                    gun_time=row['Time'], chip_time=row['Chip Time'], \n",
    "                    status=row['Status'])\n",
    "    runner_table.append(runner)\n",
    "    "
   ]
  },
  {
   "cell_type": "code",
   "execution_count": 40,
   "metadata": {
    "collapsed": false
   },
   "outputs": [
    {
     "name": "stdout",
     "output_type": "stream",
     "text": [
      "Andrew Dickens\n"
     ]
    },
    {
     "data": {
      "text/plain": [
       "{'category': u'M45+',\n",
       " 'chip_datetime': u'01:35:00',\n",
       " 'gun_datetime': u'01:35:03',\n",
       " 'gun_position': 164,\n",
       " 'name': u'Andrew Dickens',\n",
       " 'race_num': 2741,\n",
       " 'status': u'RES'}"
      ]
     },
     "execution_count": 40,
     "metadata": {},
     "output_type": "execute_result"
    }
   ],
   "source": [
    "print runner_table[0].name\n",
    "runner_table[0].__dict__"
   ]
  },
  {
   "cell_type": "markdown",
   "metadata": {},
   "source": [
    "# Analysis - making the DataFrame"
   ]
  },
  {
   "cell_type": "markdown",
   "metadata": {},
   "source": [
    "So now we have all the data in the table in our objects, stored in the list `runner_table`. This isn't very convenient for analysis though - let's uses a `pandas` DataFrame instead!"
   ]
  },
  {
   "cell_type": "code",
   "execution_count": 16,
   "metadata": {
    "collapsed": false
   },
   "outputs": [
    {
     "name": "stdout",
     "output_type": "stream",
     "text": [
      "Index([u'category', u'status', u'name', u'gun_position', u'gun_datetime',\n",
      "       u'chip_datetime', u'race_num'],\n",
      "      dtype='object')\n"
     ]
    },
    {
     "data": {
      "text/html": [
       "<div>\n",
       "<table border=\"1\" class=\"dataframe\">\n",
       "  <thead>\n",
       "    <tr style=\"text-align: right;\">\n",
       "      <th></th>\n",
       "      <th>category</th>\n",
       "      <th>status</th>\n",
       "      <th>name</th>\n",
       "      <th>gun_position</th>\n",
       "      <th>gun_datetime</th>\n",
       "      <th>chip_datetime</th>\n",
       "      <th>race_num</th>\n",
       "    </tr>\n",
       "  </thead>\n",
       "  <tbody>\n",
       "    <tr>\n",
       "      <th>0</th>\n",
       "      <td>M45+</td>\n",
       "      <td>RES</td>\n",
       "      <td>Andrew Dickens</td>\n",
       "      <td>164</td>\n",
       "      <td>01:35:03</td>\n",
       "      <td>01:35:00</td>\n",
       "      <td>2741</td>\n",
       "    </tr>\n",
       "    <tr>\n",
       "      <th>1</th>\n",
       "      <td>M45+</td>\n",
       "      <td>RES</td>\n",
       "      <td>Steve McCoy</td>\n",
       "      <td>1533</td>\n",
       "      <td>02:11:44</td>\n",
       "      <td>02:09:20</td>\n",
       "      <td>2764</td>\n",
       "    </tr>\n",
       "    <tr>\n",
       "      <th>2</th>\n",
       "      <td>F35+</td>\n",
       "      <td>RES</td>\n",
       "      <td>Rhian Rogers</td>\n",
       "      <td>1023</td>\n",
       "      <td>01:58:41</td>\n",
       "      <td>01:57:39</td>\n",
       "      <td>2777</td>\n",
       "    </tr>\n",
       "    <tr>\n",
       "      <th>3</th>\n",
       "      <td>M40+</td>\n",
       "      <td>RES</td>\n",
       "      <td>Keith Shevlan</td>\n",
       "      <td>2077</td>\n",
       "      <td>02:34:33</td>\n",
       "      <td>02:32:13</td>\n",
       "      <td>2173</td>\n",
       "    </tr>\n",
       "    <tr>\n",
       "      <th>4</th>\n",
       "      <td>Male Senior</td>\n",
       "      <td>RES</td>\n",
       "      <td>Sean parry</td>\n",
       "      <td>1003</td>\n",
       "      <td>01:58:13</td>\n",
       "      <td>01:55:59</td>\n",
       "      <td>1826</td>\n",
       "    </tr>\n",
       "  </tbody>\n",
       "</table>\n",
       "</div>"
      ],
      "text/plain": [
       "      category status            name  gun_position gun_datetime  \\\n",
       "0         M45+    RES  Andrew Dickens           164     01:35:03   \n",
       "1         M45+    RES     Steve McCoy          1533     02:11:44   \n",
       "2         F35+    RES    Rhian Rogers          1023     01:58:41   \n",
       "3         M40+    RES   Keith Shevlan          2077     02:34:33   \n",
       "4  Male Senior    RES      Sean parry          1003     01:58:13   \n",
       "\n",
       "  chip_datetime  race_num  \n",
       "0      01:35:00      2741  \n",
       "1      02:09:20      2764  \n",
       "2      01:57:39      2777  \n",
       "3      02:32:13      2173  \n",
       "4      01:55:59      1826  "
      ]
     },
     "execution_count": 16,
     "metadata": {},
     "output_type": "execute_result"
    }
   ],
   "source": [
    "df = pd.DataFrame(data=[x.__dict__ for x in runner_table], \n",
    "                  columns=runner_table[0].__dict__.keys())\n",
    "df = df[df.chip_datetime != '']\n",
    "df = df.dropna()\n",
    "print df.columns\n",
    "df.head()"
   ]
  },
  {
   "cell_type": "code",
   "execution_count": 17,
   "metadata": {
    "collapsed": false
   },
   "outputs": [
    {
     "data": {
      "text/html": [
       "<div>\n",
       "<table border=\"1\" class=\"dataframe\">\n",
       "  <thead>\n",
       "    <tr style=\"text-align: right;\">\n",
       "      <th></th>\n",
       "      <th>category</th>\n",
       "      <th>status</th>\n",
       "      <th>name</th>\n",
       "      <th>gun_position</th>\n",
       "      <th>gun_datetime</th>\n",
       "      <th>chip_datetime</th>\n",
       "      <th>race_num</th>\n",
       "    </tr>\n",
       "  </thead>\n",
       "  <tbody>\n",
       "    <tr>\n",
       "      <th>2301</th>\n",
       "      <td>Male Senior</td>\n",
       "      <td>RES</td>\n",
       "      <td>andrew meadows</td>\n",
       "      <td>1412</td>\n",
       "      <td>02:08:07</td>\n",
       "      <td>02:05:42</td>\n",
       "      <td>2765</td>\n",
       "    </tr>\n",
       "    <tr>\n",
       "      <th>2302</th>\n",
       "      <td>Male Senior</td>\n",
       "      <td>RES</td>\n",
       "      <td>Gavin Ellis</td>\n",
       "      <td>658</td>\n",
       "      <td>01:50:06</td>\n",
       "      <td>01:48:36</td>\n",
       "      <td>2743</td>\n",
       "    </tr>\n",
       "    <tr>\n",
       "      <th>2303</th>\n",
       "      <td>M40+</td>\n",
       "      <td>RES</td>\n",
       "      <td>eric quijana</td>\n",
       "      <td>1026</td>\n",
       "      <td>01:58:47</td>\n",
       "      <td>01:54:45</td>\n",
       "      <td>2771</td>\n",
       "    </tr>\n",
       "    <tr>\n",
       "      <th>2304</th>\n",
       "      <td>F50+</td>\n",
       "      <td>RES</td>\n",
       "      <td>Carolyn Thomas</td>\n",
       "      <td>647</td>\n",
       "      <td>01:49:53</td>\n",
       "      <td>01:44:59</td>\n",
       "      <td>2787</td>\n",
       "    </tr>\n",
       "    <tr>\n",
       "      <th>2305</th>\n",
       "      <td>F45+</td>\n",
       "      <td>RES</td>\n",
       "      <td>Pam Bland</td>\n",
       "      <td>2175</td>\n",
       "      <td>02:43:11</td>\n",
       "      <td>02:38:54</td>\n",
       "      <td>2728</td>\n",
       "    </tr>\n",
       "  </tbody>\n",
       "</table>\n",
       "</div>"
      ],
      "text/plain": [
       "         category status             name  gun_position gun_datetime  \\\n",
       "2301  Male Senior    RES   andrew meadows          1412     02:08:07   \n",
       "2302  Male Senior    RES      Gavin Ellis           658     01:50:06   \n",
       "2303         M40+    RES     eric quijana          1026     01:58:47   \n",
       "2304         F50+    RES  Carolyn Thomas            647     01:49:53   \n",
       "2305         F45+    RES        Pam Bland          2175     02:43:11   \n",
       "\n",
       "     chip_datetime  race_num  \n",
       "2301      02:05:42      2765  \n",
       "2302      01:48:36      2743  \n",
       "2303      01:54:45      2771  \n",
       "2304      01:44:59      2787  \n",
       "2305      02:38:54      2728  "
      ]
     },
     "execution_count": 17,
     "metadata": {},
     "output_type": "execute_result"
    }
   ],
   "source": [
    "df.tail()"
   ]
  },
  {
   "cell_type": "code",
   "execution_count": 18,
   "metadata": {
    "collapsed": false
   },
   "outputs": [
    {
     "name": "stdout",
     "output_type": "stream",
     "text": [
      "2303 runners\n"
     ]
    }
   ],
   "source": [
    "num_runners = len(df.index)\n",
    "print num_runners, 'runners'"
   ]
  },
  {
   "cell_type": "markdown",
   "metadata": {},
   "source": [
    "We need to convert all the time elements to the correct type of object."
   ]
  },
  {
   "cell_type": "code",
   "execution_count": 19,
   "metadata": {
    "collapsed": false
   },
   "outputs": [],
   "source": [
    "time_converter = np.vectorize(lambda x : pd.to_datetime(x, format='%H:%M:%S'))\n",
    "df.chip_datetime = df.chip_datetime.apply(time_converter)\n",
    "df.gun_datetime = df.gun_datetime.apply(time_converter)"
   ]
  },
  {
   "cell_type": "markdown",
   "metadata": {},
   "source": [
    "One thing we need to recalculate is position. The default 'position' we scraped is based off the _gun_ time, not the _chip_ time (which is much fairer). We should re-calculate both in light of dropping any dud entries."
   ]
  },
  {
   "cell_type": "code",
   "execution_count": 20,
   "metadata": {
    "collapsed": true
   },
   "outputs": [],
   "source": [
    "# Calculate position based off gun time\n",
    "df = df.sort_index(by=['gun_datetime']).reset_index(drop=True)\n",
    "df['gun_position'] = df.index + 1"
   ]
  },
  {
   "cell_type": "code",
   "execution_count": 42,
   "metadata": {
    "collapsed": false,
    "scrolled": false
   },
   "outputs": [],
   "source": [
    "# Calculate position based off chip time\n",
    "df = df.sort_index(by=['chip_datetime']).reset_index(drop=True)\n",
    "df['chip_position'] = df.index + 1\n",
    "# df.head()"
   ]
  },
  {
   "cell_type": "markdown",
   "metadata": {},
   "source": [
    "Now we can actually do some analysis!"
   ]
  },
  {
   "cell_type": "markdown",
   "metadata": {},
   "source": [
    "# Analysis - plots'n'stuff "
   ]
  },
  {
   "cell_type": "markdown",
   "metadata": {},
   "source": [
    "We can now start splitting, sorting, clustering, etc to find any potential patterns."
   ]
  },
  {
   "cell_type": "markdown",
   "metadata": {},
   "source": [
    "## Male vs Female"
   ]
  },
  {
   "cell_type": "code",
   "execution_count": 22,
   "metadata": {
    "collapsed": false
   },
   "outputs": [],
   "source": [
    "# Split DataFrame into separate male and female DataFrames\n",
    "df_male = df[df.category.str.contains('M')]"
   ]
  },
  {
   "cell_type": "code",
   "execution_count": 43,
   "metadata": {
    "collapsed": false
   },
   "outputs": [
    {
     "name": "stdout",
     "output_type": "stream",
     "text": [
      "1423 male and 880 female runners\n"
     ]
    }
   ],
   "source": [
    "df_female = df[df.category.str.contains('F')]\n",
    "# df_male.head()\n",
    "# df_female.head()\n",
    "print len(df_male.index), \"male and\", len(df_female.index), \"female runners\""
   ]
  },
  {
   "cell_type": "markdown",
   "metadata": {},
   "source": [
    "Let's do something very basic - how correlated is finishing position with gender? We'll look at position (according to chip time) as a function of gender"
   ]
  },
  {
   "cell_type": "code",
   "execution_count": 24,
   "metadata": {
    "collapsed": false
   },
   "outputs": [
    {
     "data": {
      "text/plain": [
       "<matplotlib.legend.Legend at 0x11666c0d0>"
      ]
     },
     "execution_count": 24,
     "metadata": {},
     "output_type": "execute_result"
    },
    {
     "data": {
      "image/png": "[encoded data removed]",
      "text/plain": [
       "<matplotlib.figure.Figure at 0x1164f1fd0>"
      ]
     },
     "metadata": {},
     "output_type": "display_data"
    }
   ],
   "source": [
    "pos = 'chip_position'\n",
    "nbins = 23\n",
    "lw = 0\n",
    "x_range = [0, 2300]\n",
    "normed = False\n",
    "n, bins, _ = plt.hist([df_male[pos].values, df_female[pos].values], \n",
    "                      bins=nbins, stacked=True, histtype='barstacked',\n",
    "                      label=['Male', 'Female'], lw=lw, range=x_range, \n",
    "                      rwidth=0.9, normed=normed)\n",
    "# Add in error bars:\n",
    "# bin_centers = 0.5*(bins[1:]+bins[:-1])\n",
    "# plt.bar(bin_centers, n[0], yerr=np.sqrt(n[0]), width=0, alpha=0, \n",
    "#         ecolor='black', error_kw=dict(elinewidth=2, capthick=2), \n",
    "#         label=r'Err = $\\sqrt{N_{male}}$')\n",
    "plt.xlabel('Position (chip time)')\n",
    "plt.ylabel(\"N / bin\")\n",
    "plt.legend(loc=0)"
   ]
  },
  {
   "cell_type": "code",
   "execution_count": 34,
   "metadata": {
    "collapsed": false
   },
   "outputs": [
    {
     "data": {
      "text/plain": [
       "0      1900-01-01 01:12:39\n",
       "1      1900-01-01 01:13:23\n",
       "2      1900-01-01 01:13:59\n",
       "3      1900-01-01 01:14:42\n",
       "4      1900-01-01 01:17:08\n",
       "5      1900-01-01 01:17:51\n",
       "6      1900-01-01 01:18:12\n",
       "7      1900-01-01 01:18:21\n",
       "8      1900-01-01 01:18:58\n",
       "9      1900-01-01 01:19:05\n",
       "10     1900-01-01 01:20:01\n",
       "12     1900-01-01 01:20:44\n",
       "13     1900-01-01 01:21:00\n",
       "14     1900-01-01 01:21:10\n",
       "15     1900-01-01 01:21:20\n",
       "16     1900-01-01 01:21:55\n",
       "17     1900-01-01 01:22:29\n",
       "18     1900-01-01 01:22:43\n",
       "19     1900-01-01 01:22:51\n",
       "20     1900-01-01 01:23:02\n",
       "21     1900-01-01 01:23:04\n",
       "22     1900-01-01 01:23:05\n",
       "23     1900-01-01 01:24:12\n",
       "24     1900-01-01 01:24:16\n",
       "25     1900-01-01 01:24:17\n",
       "26     1900-01-01 01:24:25\n",
       "27     1900-01-01 01:24:31\n",
       "28     1900-01-01 01:24:31\n",
       "29     1900-01-01 01:24:38\n",
       "30     1900-01-01 01:24:50\n",
       "               ...        \n",
       "2186   1900-01-01 02:40:44\n",
       "2188   1900-01-01 02:40:54\n",
       "2200   1900-01-01 02:43:11\n",
       "2206   1900-01-01 02:43:39\n",
       "2209   1900-01-01 02:44:15\n",
       "2211   1900-01-01 02:44:35\n",
       "2218   1900-01-01 02:45:34\n",
       "2222   1900-01-01 02:46:09\n",
       "2233   1900-01-01 02:47:54\n",
       "2238   1900-01-01 02:48:46\n",
       "2241   1900-01-01 02:51:14\n",
       "2243   1900-01-01 02:51:24\n",
       "2245   1900-01-01 02:52:15\n",
       "2250   1900-01-01 02:52:36\n",
       "2255   1900-01-01 02:53:03\n",
       "2257   1900-01-01 02:53:10\n",
       "2258   1900-01-01 02:53:25\n",
       "2267   1900-01-01 02:57:00\n",
       "2269   1900-01-01 02:57:02\n",
       "2271   1900-01-01 02:57:18\n",
       "2272   1900-01-01 02:57:20\n",
       "2275   1900-01-01 02:59:21\n",
       "2276   1900-01-01 02:59:41\n",
       "2277   1900-01-01 03:00:09\n",
       "2279   1900-01-01 03:00:45\n",
       "2282   1900-01-01 03:03:12\n",
       "2284   1900-01-01 03:03:43\n",
       "2285   1900-01-01 03:03:56\n",
       "2288   1900-01-01 03:05:33\n",
       "2289   1900-01-01 03:05:55\n",
       "Name: chip_datetime, dtype: datetime64[ns]"
      ]
     },
     "execution_count": 34,
     "metadata": {},
     "output_type": "execute_result"
    }
   ],
   "source": [
    "df_male.chip_datetime"
   ]
  },
  {
   "cell_type": "markdown",
   "metadata": {},
   "source": [
    "So it's clear that, on average, men tend to finish in shorter times than women. Nothing revelatory there, but nice to see the strength of the correlation."
   ]
  },
  {
   "cell_type": "markdown",
   "metadata": {},
   "source": [
    "## Lining up "
   ]
  },
  {
   "cell_type": "markdown",
   "metadata": {},
   "source": [
    "One question we could ask is: do people tend to line up in the right places? Do people tend to be optimistic or pessimistic about their times? Of course, to answer this properly would involve knowing exactly where everyone started physically. This is information we don't possess. However, we can do something similar by comparing gun and chip times. The difference is related to how far back the person started. So our question now becomes: how does $\\Delta(t_{Gun}, t_{Chip})$ relate to chip time (or equivalently chip position)?"
   ]
  },
  {
   "cell_type": "code",
   "execution_count": 25,
   "metadata": {
    "collapsed": false
   },
   "outputs": [
    {
     "data": {
      "text/plain": [
       "<matplotlib.legend.Legend at 0x116aa1710>"
      ]
     },
     "execution_count": 25,
     "metadata": {},
     "output_type": "execute_result"
    },
    {
     "data": {
      "image/png": "[encoded data removed]",
      "text/plain": [
       "<matplotlib.figure.Figure at 0x116380190>"
      ]
     },
     "metadata": {},
     "output_type": "display_data"
    }
   ],
   "source": [
    "alpha = 0.7\n",
    "plt.scatter(x=df_male.chip_position.values,\n",
    "            y=df_male.gun_position.values, c='royalblue', alpha=alpha, label='Male')\n",
    "plt.scatter(x=df_female.chip_position.values,\n",
    "            y=df_female.gun_position.values, c='red', alpha=alpha, label='Female', marker='s')\n",
    "plt.xlabel('Position (chip time)')\n",
    "plt.ylabel('Position (gun time)')\n",
    "plt.plot([0,2500], [0,2500], lw=2, c='black', ls='--', label='Gun position = chip position')\n",
    "plt.xlim(0, 2500)\n",
    "plt.ylim(0, 2500)\n",
    "plt.legend(loc=0)"
   ]
  },
  {
   "cell_type": "markdown",
   "metadata": {},
   "source": [
    "So for most people, their gun position is similar to their chip position. However there are some cases there the position according to gun time is much larger than according to chip time (above the diagonal). I guess these people got stuck further back than their 'proper' starting position, delaying their start across the line."
   ]
  },
  {
   "cell_type": "code",
   "execution_count": 26,
   "metadata": {
    "collapsed": false
   },
   "outputs": [
    {
     "data": {
      "text/html": [
       "<div>\n",
       "<table border=\"1\" class=\"dataframe\">\n",
       "  <thead>\n",
       "    <tr style=\"text-align: right;\">\n",
       "      <th></th>\n",
       "      <th>category</th>\n",
       "      <th>status</th>\n",
       "      <th>name</th>\n",
       "      <th>gun_position</th>\n",
       "      <th>gun_datetime</th>\n",
       "      <th>chip_datetime</th>\n",
       "      <th>race_num</th>\n",
       "      <th>chip_position</th>\n",
       "    </tr>\n",
       "  </thead>\n",
       "  <tbody>\n",
       "    <tr>\n",
       "      <th>695</th>\n",
       "      <td>Male Senior</td>\n",
       "      <td>RES</td>\n",
       "      <td>Robin Aggleton</td>\n",
       "      <td>680</td>\n",
       "      <td>1900-01-01 01:50:37</td>\n",
       "      <td>1900-01-01 01:49:29</td>\n",
       "      <td>17</td>\n",
       "      <td>696</td>\n",
       "    </tr>\n",
       "  </tbody>\n",
       "</table>\n",
       "</div>"
      ],
      "text/plain": [
       "        category status            name  gun_position        gun_datetime  \\\n",
       "695  Male Senior    RES  Robin Aggleton           680 1900-01-01 01:50:37   \n",
       "\n",
       "          chip_datetime  race_num  chip_position  \n",
       "695 1900-01-01 01:49:29        17            696  "
      ]
     },
     "execution_count": 26,
     "metadata": {},
     "output_type": "execute_result"
    }
   ],
   "source": [
    "df[df.name.str.contains('Robin Aggleton')]"
   ]
  },
  {
   "cell_type": "code",
   "execution_count": 27,
   "metadata": {
    "collapsed": false
   },
   "outputs": [
    {
     "data": {
      "text/html": [
       "<div>\n",
       "<table border=\"1\" class=\"dataframe\">\n",
       "  <thead>\n",
       "    <tr style=\"text-align: right;\">\n",
       "      <th></th>\n",
       "      <th>category</th>\n",
       "      <th>status</th>\n",
       "      <th>name</th>\n",
       "      <th>gun_position</th>\n",
       "      <th>gun_datetime</th>\n",
       "      <th>chip_datetime</th>\n",
       "      <th>race_num</th>\n",
       "      <th>chip_position</th>\n",
       "    </tr>\n",
       "  </thead>\n",
       "  <tbody>\n",
       "    <tr>\n",
       "      <th>1429</th>\n",
       "      <td>Male Senior</td>\n",
       "      <td>RES</td>\n",
       "      <td>David Thomas</td>\n",
       "      <td>1396</td>\n",
       "      <td>1900-01-01 02:07:48</td>\n",
       "      <td>1900-01-01 02:05:52</td>\n",
       "      <td>2339</td>\n",
       "      <td>1430</td>\n",
       "    </tr>\n",
       "  </tbody>\n",
       "</table>\n",
       "</div>"
      ],
      "text/plain": [
       "         category status          name  gun_position        gun_datetime  \\\n",
       "1429  Male Senior    RES  David Thomas          1396 1900-01-01 02:07:48   \n",
       "\n",
       "           chip_datetime  race_num  chip_position  \n",
       "1429 1900-01-01 02:05:52      2339           1430  "
      ]
     },
     "execution_count": 27,
     "metadata": {},
     "output_type": "execute_result"
    }
   ],
   "source": [
    "df[(df.name.str.contains('David Thomas')) & (df.category.str.contains(\"Male Senior\"))]"
   ]
  },
  {
   "cell_type": "code",
   "execution_count": 28,
   "metadata": {
    "collapsed": false
   },
   "outputs": [
    {
     "data": {
      "text/html": [
       "<div>\n",
       "<table border=\"1\" class=\"dataframe\">\n",
       "  <thead>\n",
       "    <tr style=\"text-align: right;\">\n",
       "      <th></th>\n",
       "      <th>category</th>\n",
       "      <th>status</th>\n",
       "      <th>name</th>\n",
       "      <th>gun_position</th>\n",
       "      <th>gun_datetime</th>\n",
       "      <th>chip_datetime</th>\n",
       "      <th>race_num</th>\n",
       "      <th>chip_position</th>\n",
       "    </tr>\n",
       "  </thead>\n",
       "  <tbody>\n",
       "    <tr>\n",
       "      <th>238</th>\n",
       "      <td>Male Senior</td>\n",
       "      <td>RES</td>\n",
       "      <td>Matthew Bluteau</td>\n",
       "      <td>233</td>\n",
       "      <td>1900-01-01 01:37:49</td>\n",
       "      <td>1900-01-01 01:37:26</td>\n",
       "      <td>214</td>\n",
       "      <td>239</td>\n",
       "    </tr>\n",
       "  </tbody>\n",
       "</table>\n",
       "</div>"
      ],
      "text/plain": [
       "        category status             name  gun_position        gun_datetime  \\\n",
       "238  Male Senior    RES  Matthew Bluteau           233 1900-01-01 01:37:49   \n",
       "\n",
       "          chip_datetime  race_num  chip_position  \n",
       "238 1900-01-01 01:37:26       214            239  "
      ]
     },
     "execution_count": 28,
     "metadata": {},
     "output_type": "execute_result"
    }
   ],
   "source": [
    "df[df.name.str.contains('Matthew Bluteau')]"
   ]
  },
  {
   "cell_type": "code",
   "execution_count": 29,
   "metadata": {
    "collapsed": false
   },
   "outputs": [
    {
     "data": {
      "text/plain": [
       "<matplotlib.legend.Legend at 0x116cb1510>"
      ]
     },
     "execution_count": 29,
     "metadata": {},
     "output_type": "execute_result"
    },
    {
     "data": {
      "image/png": "[encoded data removed]",
      "text/plain": [
       "<matplotlib.figure.Figure at 0x11666c310>"
      ]
     },
     "metadata": {},
     "output_type": "display_data"
    }
   ],
   "source": [
    "plt.scatter(x=df_male.chip_datetime.values, y=df_male.chip_position.values, \n",
    "            alpha=0.5, c='blue', label='Male')\n",
    "plt.scatter(x=df_female.chip_datetime.values, y=df_female.chip_position.values, \n",
    "            alpha=0.95, c='red', label='Female', marker='d')\n",
    "# plt.yscale('log')\n",
    "plt.gca().get_xlim()\n",
    "plt.xlim(mdates.date2num(datetime(1900, 1, 1, 1, 10, 0)), mdates.date2num(datetime(1900, 1, 1, 3, 50, 0)))\n",
    "plt.ylim(0, 2500)\n",
    "plt.legend(loc=0)\n",
    "type(df.chip_datetime.values[0])\n",
    "mdates.num2date(693596.04)\n",
    "mdates.date2num(datetime(1900, 1, 1, 2, 0, 0))\n",
    "plt.vlines(mdates.date2num(datetime(1900, 1, 1, 1, 45, 0)), *plt.ylim(), \n",
    "           linestyles='dashed', label=\"1 hr 45 min\", color='green')\n",
    "plt.vlines(mdates.date2num(datetime(1900, 1, 1, 1, 50, 0)), *plt.ylim(), \n",
    "           linestyles='dashed', label=\"1 hr 50 min\", color='purple')\n",
    "plt.vlines(mdates.date2num(datetime(1900, 1, 1, 2, 0, 0)), *plt.ylim(), \n",
    "           linestyles='dashed', label=\"2 hr\")\n",
    "plt.legend(loc=2)"
   ]
  },
  {
   "cell_type": "code",
   "execution_count": 30,
   "metadata": {
    "collapsed": true
   },
   "outputs": [],
   "source": [
    "dates = ['01/02/1991','01/03/1991','01/04/1991']\n",
    "x = [datetime.strptime(d,'%m/%d/%Y').date() for d in dates]"
   ]
  },
  {
   "cell_type": "code",
   "execution_count": 31,
   "metadata": {
    "collapsed": false
   },
   "outputs": [
    {
     "data": {
      "image/png": "[encoded data removed]",
      "text/plain": [
       "<matplotlib.figure.Figure at 0x116a4d790>"
      ]
     },
     "metadata": {},
     "output_type": "display_data"
    }
   ],
   "source": [
    "plt.hist([mdates.date2num(datetime.strptime('01:10:00', \"%H:%M:%S\")), \n",
    "          mdates.date2num(datetime.strptime('01:15:00', \"%H:%M:%S\")), \n",
    "          mdates.date2num(datetime.strptime('01:30:00', \"%H:%M:%S\"))], \n",
    "         bins=7, \n",
    "         range=[mdates.date2num(datetime.strptime('01:00:00', \"%H:%M:%S\")), \n",
    "                mdates.date2num(datetime.strptime('01:35:00', \"%H:%M:%S\"))])\n",
    "plt.gca().xaxis.set_major_locator( mdates.MinuteLocator(interval=2) )\n",
    "plt.gca().xaxis.set_major_formatter( mdates.DateFormatter(\"%H:%M:%S\") )\n"
   ]
  },
  {
   "cell_type": "code",
   "execution_count": null,
   "metadata": {
    "collapsed": true
   },
   "outputs": [],
   "source": []
  }
 ],
 "metadata": {
  "kernelspec": {
   "display_name": "Python 2",
   "language": "python",
   "name": "python2"
  },
  "language_info": {
   "codemirror_mode": {
    "name": "ipython",
    "version": 2
   },
   "file_extension": ".py",
   "mimetype": "text/x-python",
   "name": "python",
   "nbconvert_exporter": "python",
   "pygments_lexer": "ipython2",
   "version": "2.7.10"
  }
 },
 "nbformat": 4,
 "nbformat_minor": 0
}
