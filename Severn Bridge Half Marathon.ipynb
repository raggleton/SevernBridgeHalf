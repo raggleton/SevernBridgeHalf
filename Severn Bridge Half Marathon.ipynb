{
 "cells": [
  {
   "cell_type": "markdown",
   "metadata": {},
   "source": [
    "Let's take all the results from the Severn Bridge Half and do some analysis! This is an example of basic scraping and data analysis."
   ]
  },
  {
   "cell_type": "code",
   "execution_count": 1,
   "metadata": {
    "collapsed": false
   },
   "outputs": [],
   "source": [
    "# for parsing HTML page\n",
    "import requests\n",
    "from bs4 import BeautifulSoup\n",
    "from datetime import time, timedelta, datetime\n",
    "# for easy import/export\n",
    "import json\n",
    "# for analysis\n",
    "import pandas as pd\n",
    "import numpy as np\n",
    "import matplotlib.pyplot as plt\n",
    "import seaborn"
   ]
  },
  {
   "cell_type": "code",
   "execution_count": 2,
   "metadata": {
    "collapsed": false
   },
   "outputs": [
    {
     "name": "stdout",
     "output_type": "stream",
     "text": [
      "Using matplotlib backend: MacOSX\n",
      "Populating the interactive namespace from numpy and matplotlib\n"
     ]
    },
    {
     "name": "stderr",
     "output_type": "stream",
     "text": [
      "WARNING: pylab import has clobbered these variables: ['datetime']\n",
      "`%matplotlib` prevents importing * from pylab and numpy\n"
     ]
    }
   ],
   "source": [
    "%matplotlib\n",
    "get_ipython().magic(u'pylab inline')\n",
    "mpl.rcParams['figure.figsize'] = (14.0, 6.0)  # default size of plots\n",
    "mpl.rcParams['axes.labelsize'] = 20\n",
    "mpl.rcParams['xtick.labelsize'] = 16\n",
    "mpl.rcParams['ytick.labelsize'] = 16\n",
    "mpl.rcParams['xtick.major.size'] = 10\n",
    "mpl.rcParams['ytick.major.size'] = 10\n",
    "mpl.rcParams['xtick.minor.size'] = 5\n",
    "mpl.rcParams['ytick.minor.size'] = 5\n",
    "mpl.rcParams['legend.framealpha'] = 0.6\n",
    "mpl.rcParams['legend.fontsize'] = 16\n",
    "mpl.rcParams['legend.scatterpoints'] = 1"
   ]
  },
  {
   "cell_type": "markdown",
   "metadata": {},
   "source": [
    "# Scraping the data "
   ]
  },
  {
   "cell_type": "code",
   "execution_count": 3,
   "metadata": {
    "collapsed": false
   },
   "outputs": [],
   "source": [
    "# Get the page HTML, and the table element\n",
    "page = requests.get(r\"https://www.fullonsport.com/event/5834/results\")\n",
    "# soup = BeautifulSoup(page.text, 'html.parser')  # included parser\n",
    "soup = BeautifulSoup(page.text, 'lxml')  # lxml parser\n",
    "raw_table = soup.find(id='my-results')"
   ]
  },
  {
   "cell_type": "code",
   "execution_count": 4,
   "metadata": {
    "collapsed": false
   },
   "outputs": [
    {
     "name": "stdout",
     "output_type": "stream",
     "text": [
      "Columns: ['Position', 'Race No', 'Firstname', 'Lastname', 'Club', 'Club Pos', 'Category', 'Cat Pos', 'Time', 'Chip Time', 'Status']\n"
     ]
    }
   ],
   "source": [
    "# Get the table column names\n",
    "columns = [str(x.string) for x in raw_table.find('thead').findAll('th')]\n",
    "print 'Columns:', columns"
   ]
  },
  {
   "cell_type": "code",
   "execution_count": 5,
   "metadata": {
    "collapsed": true
   },
   "outputs": [],
   "source": [
    "# Make a class to hold the runner info\n",
    "\n",
    "class Runner(object):\n",
    "    \"\"\"Class to describe entry.\"\"\"\n",
    "    def __init__(self, gun_position, race_num, firstname, surname, club, club_pos, \n",
    "                 category, category_pos, gun_time, chip_time, status):\n",
    "        self.gun_position = int(gun_position) # based off gun time\n",
    "        self.race_num = int(race_num)\n",
    "        self.firstname = firstname\n",
    "        self.surname = surname\n",
    "        self.name = \"%s %s\" % (self.firstname, self.surname)\n",
    "        self.club = club\n",
    "        self.club_pos = int(club_pos)\n",
    "        self.category = category\n",
    "        # Gun time is the time differencce between the gun firing and the runner's finish\n",
    "        self.gun_datetime = datetime.strptime(gun_time, '%H:%M:%S') if gun_time else datetime.max  # incase there is a missing entry\n",
    "        self.gun_time = self.gun_datetime.time()\n",
    "        # Chip time is the time difference between when runner crossing the start and finish lines\n",
    "        self.chip_datetime = datetime.strptime(chip_time, '%H:%M:%S') if chip_time else datetime.max\n",
    "        self.chip_time = self.chip_datetime.time()\n",
    "        self.gun_chip_delta = self.gun_datetime - self.chip_datetime # difference between gun time and chip time\n",
    "        self.status = status\n",
    "    \n",
    "    def json(self):\n",
    "        \"\"\"Method to convert to JSON output\"\"\"\n",
    "        pass"
   ]
  },
  {
   "cell_type": "code",
   "execution_count": 6,
   "metadata": {
    "collapsed": false,
    "scrolled": false
   },
   "outputs": [
    {
     "ename": "AttributeError",
     "evalue": "'module' object has no attribute 'strptime'",
     "output_type": "error",
     "traceback": [
      "\u001b[0;31m---------------------------------------------------------------------------\u001b[0m",
      "\u001b[0;31mAttributeError\u001b[0m                            Traceback (most recent call last)",
      "\u001b[0;32m<ipython-input-6-31f668b7a72e>\u001b[0m in \u001b[0;36m<module>\u001b[0;34m()\u001b[0m\n\u001b[1;32m      8\u001b[0m     runner = Runner(gun_position=row['Position'], race_num=row['Race No'], firstname=row['Firstname'], \n\u001b[1;32m      9\u001b[0m                     \u001b[0msurname\u001b[0m\u001b[0;34m=\u001b[0m\u001b[0mrow\u001b[0m\u001b[0;34m[\u001b[0m\u001b[0;34m'Lastname'\u001b[0m\u001b[0;34m]\u001b[0m\u001b[0;34m,\u001b[0m \u001b[0mclub\u001b[0m\u001b[0;34m=\u001b[0m\u001b[0mrow\u001b[0m\u001b[0;34m[\u001b[0m\u001b[0;34m'Club'\u001b[0m\u001b[0;34m]\u001b[0m\u001b[0;34m,\u001b[0m \u001b[0mclub_pos\u001b[0m\u001b[0;34m=\u001b[0m\u001b[0mrow\u001b[0m\u001b[0;34m[\u001b[0m\u001b[0;34m'Club Pos'\u001b[0m\u001b[0;34m]\u001b[0m\u001b[0;34m,\u001b[0m \u001b[0mcategory\u001b[0m\u001b[0;34m=\u001b[0m\u001b[0mrow\u001b[0m\u001b[0;34m[\u001b[0m\u001b[0;34m'Category'\u001b[0m\u001b[0;34m]\u001b[0m\u001b[0;34m,\u001b[0m\u001b[0;34m\u001b[0m\u001b[0m\n\u001b[0;32m---> 10\u001b[0;31m                     category_pos=row['Cat Pos'], gun_time=row['Time'], chip_time=row['Chip Time'], status=row['Status'])\n\u001b[0m\u001b[1;32m     11\u001b[0m     \u001b[0mrunner_table\u001b[0m\u001b[0;34m.\u001b[0m\u001b[0mappend\u001b[0m\u001b[0;34m(\u001b[0m\u001b[0mrunner\u001b[0m\u001b[0;34m)\u001b[0m\u001b[0;34m\u001b[0m\u001b[0m\n\u001b[1;32m     12\u001b[0m \u001b[0;34m\u001b[0m\u001b[0m\n",
      "\u001b[0;32m<ipython-input-5-0bc13f32abb5>\u001b[0m in \u001b[0;36m__init__\u001b[0;34m(self, gun_position, race_num, firstname, surname, club, club_pos, category, category_pos, gun_time, chip_time, status)\u001b[0m\n\u001b[1;32m     14\u001b[0m         \u001b[0mself\u001b[0m\u001b[0;34m.\u001b[0m\u001b[0mcategory\u001b[0m \u001b[0;34m=\u001b[0m \u001b[0mcategory\u001b[0m\u001b[0;34m\u001b[0m\u001b[0m\n\u001b[1;32m     15\u001b[0m         \u001b[0;31m# Gun time is the time differencce between the gun firing and the runner's finish\u001b[0m\u001b[0;34m\u001b[0m\u001b[0;34m\u001b[0m\u001b[0m\n\u001b[0;32m---> 16\u001b[0;31m         \u001b[0mself\u001b[0m\u001b[0;34m.\u001b[0m\u001b[0mgun_datetime\u001b[0m \u001b[0;34m=\u001b[0m \u001b[0mdatetime\u001b[0m\u001b[0;34m.\u001b[0m\u001b[0mstrptime\u001b[0m\u001b[0;34m(\u001b[0m\u001b[0mgun_time\u001b[0m\u001b[0;34m,\u001b[0m \u001b[0;34m'%H:%M:%S'\u001b[0m\u001b[0;34m)\u001b[0m \u001b[0;32mif\u001b[0m \u001b[0mgun_time\u001b[0m \u001b[0;32melse\u001b[0m \u001b[0mdatetime\u001b[0m\u001b[0;34m.\u001b[0m\u001b[0mmax\u001b[0m  \u001b[0;31m# incase there is a missing entry\u001b[0m\u001b[0;34m\u001b[0m\u001b[0m\n\u001b[0m\u001b[1;32m     17\u001b[0m         \u001b[0mself\u001b[0m\u001b[0;34m.\u001b[0m\u001b[0mgun_time\u001b[0m \u001b[0;34m=\u001b[0m \u001b[0mself\u001b[0m\u001b[0;34m.\u001b[0m\u001b[0mgun_datetime\u001b[0m\u001b[0;34m.\u001b[0m\u001b[0mtime\u001b[0m\u001b[0;34m(\u001b[0m\u001b[0;34m)\u001b[0m\u001b[0;34m\u001b[0m\u001b[0m\n\u001b[1;32m     18\u001b[0m         \u001b[0;31m# Chip time is the time difference between when runner crossing the start and finish lines\u001b[0m\u001b[0;34m\u001b[0m\u001b[0;34m\u001b[0m\u001b[0m\n",
      "\u001b[0;31mAttributeError\u001b[0m: 'module' object has no attribute 'strptime'"
     ]
    }
   ],
   "source": [
    "# Let's get all the rows!\n",
    "runner_table = []\n",
    "for child in raw_table.children:\n",
    "    if child.name != 'tr':\n",
    "        continue\n",
    "    row = {k:str(v.text) for k, v in zip(columns, child.children)}\n",
    "#     print row\n",
    "    runner = Runner(gun_position=row['Position'], race_num=row['Race No'], firstname=row['Firstname'], \n",
    "                    surname=row['Lastname'], club=row['Club'], club_pos=row['Club Pos'], category=row['Category'],\n",
    "                    category_pos=row['Cat Pos'], gun_time=row['Time'], chip_time=row['Chip Time'], status=row['Status'])\n",
    "    runner_table.append(runner)\n",
    "    "
   ]
  },
  {
   "cell_type": "code",
   "execution_count": null,
   "metadata": {
    "collapsed": false,
    "scrolled": true
   },
   "outputs": [],
   "source": [
    "print runner_table[0].name"
   ]
  },
  {
   "cell_type": "code",
   "execution_count": null,
   "metadata": {
    "collapsed": false
   },
   "outputs": [],
   "source": [
    "runner_table[683].__dict__"
   ]
  },
  {
   "cell_type": "markdown",
   "metadata": {},
   "source": [
    "# Analysis"
   ]
  },
  {
   "cell_type": "markdown",
   "metadata": {},
   "source": [
    "So now we have all the data in the table in our objects, stored in the list `runner_table`. This isn't very convenient for analysis though - let's uses a `pandas` DataFrame instead!"
   ]
  },
  {
   "cell_type": "code",
   "execution_count": null,
   "metadata": {
    "collapsed": false
   },
   "outputs": [],
   "source": [
    "print runner_table[0].__dict__.keys()\n",
    "df = pd.DataFrame(data=[x.__dict__ for x in runner_table], columns=runner_table[0].__dict__.keys())"
   ]
  },
  {
   "cell_type": "code",
   "execution_count": null,
   "metadata": {
    "collapsed": false
   },
   "outputs": [],
   "source": [
    "num_runners = len(df.index)\n",
    "print num_runners, 'runners'"
   ]
  },
  {
   "cell_type": "markdown",
   "metadata": {},
   "source": [
    "One thing we need to recalculate is position. The default 'position' we scraped is based off the _gun_ time, not the _chip_ time (which is much fairer)."
   ]
  },
  {
   "cell_type": "code",
   "execution_count": null,
   "metadata": {
    "collapsed": false
   },
   "outputs": [],
   "source": [
    "pos = 'position'\n",
    "nbins = 30\n",
    "lw = 2\n",
    "x_range = [0, num_runners]\n",
    "normed = False\n",
    "ax = df[df.category.str.contains('M')][pos].plot(kind='hist', bins=nbins, color='blue', normed=normed,\n",
    "                                                 histtype='step', label='Male', lw=lw, range=x_range)\n",
    "df[df.category.str.contains('F')][pos].plot(kind='hist', bins=nbins, color='green', ax=ax, normed=normed,\n",
    "                                            histtype='step', label='Female', lw=lw, range=x_range)\n",
    "plt.xlabel('Gun position')\n",
    "plt.xlim(right=num_runners)\n",
    "plt.legend(loc=0)"
   ]
  },
  {
   "cell_type": "code",
   "execution_count": null,
   "metadata": {
    "collapsed": true
   },
   "outputs": [],
   "source": []
  }
 ],
 "metadata": {
  "kernelspec": {
   "display_name": "Python 2",
   "language": "python",
   "name": "python2"
  }
 },
 "nbformat": 4,
 "nbformat_minor": 0
}
