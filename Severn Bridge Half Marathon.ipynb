{
 "cells": [
  {
   "cell_type": "markdown",
   "metadata": {},
   "source": [
    "Let's take all the results from the Severn Bridge Half and do some analysis! This is an example of basic scraping and data analysis."
   ]
  },
  {
   "cell_type": "code",
   "execution_count": 46,
   "metadata": {
    "collapsed": false
   },
   "outputs": [],
   "source": [
    "# for parsing HTML page\n",
    "import requests\n",
    "from bs4 import BeautifulSoup\n",
    "from datetime import time, timedelta, datetime\n",
    "# for easy import/export\n",
    "import json\n",
    "# for analysis\n",
    "import pandas as pd\n",
    "import numpy as np\n",
    "import matplotlib.pyplot as plt\n",
    "import seaborn"
   ]
  },
  {
   "cell_type": "code",
   "execution_count": 56,
   "metadata": {
    "collapsed": false
   },
   "outputs": [],
   "source": [
    "seaborn.set_style(\"whitegrid\")\n",
    "\n",
    "%matplotlib inline\n",
    "# get_ipython().magic(u'pylab inline')\n",
    "mpl.rcParams['figure.figsize'] = (14.0, 6.0)  # default size of plots\n",
    "mpl.rcParams['axes.labelsize'] = 20\n",
    "mpl.rcParams['xtick.labelsize'] = 16\n",
    "mpl.rcParams['ytick.labelsize'] = 16\n",
    "# mpl.rcParams['xtick.major.size'] = 10\n",
    "# mpl.rcParams['ytick.major.size'] = 10\n",
    "# mpl.rcParams['xtick.minor.size'] = 5\n",
    "# mpl.rcParams['ytick.minor.size'] = 5\n",
    "mpl.rcParams['legend.framealpha'] = 0.6\n",
    "mpl.rcParams['legend.fontsize'] = 16\n",
    "mpl.rcParams['legend.scatterpoints'] = 1"
   ]
  },
  {
   "cell_type": "markdown",
   "metadata": {},
   "source": [
    "# Scraping the data "
   ]
  },
  {
   "cell_type": "markdown",
   "metadata": {},
   "source": [
    "First, we need to scrape the table of results from the website. Let's use `requests` to pull the html, and `BeautifulSoup4` to traverse the HTML elements."
   ]
  },
  {
   "cell_type": "code",
   "execution_count": 70,
   "metadata": {
    "collapsed": false
   },
   "outputs": [],
   "source": [
    "# Get the page HTML, and the table element\n",
    "page = requests.get(r\"https://www.fullonsport.com/event/5834/results\")\n",
    "# soup = BeautifulSoup(page.text, 'html.parser')  # included parser\n",
    "soup = BeautifulSoup(page.text, 'lxml')  # lxml parser\n",
    "# Get the table of results\n",
    "raw_table = soup.find(id='my-results')"
   ]
  },
  {
   "cell_type": "code",
   "execution_count": 58,
   "metadata": {
    "collapsed": false
   },
   "outputs": [
    {
     "name": "stdout",
     "output_type": "stream",
     "text": [
      "Columns: ['Position', 'Race No', 'Firstname', 'Lastname', 'Club', 'Club Pos', 'Category', 'Cat Pos', 'Time', 'Chip Time', 'Status']\n"
     ]
    }
   ],
   "source": [
    "# Get the table column names\n",
    "columns = [str(x.string) for x in raw_table.find('thead').findAll('th')]\n",
    "print 'Columns:', columns"
   ]
  },
  {
   "cell_type": "code",
   "execution_count": 59,
   "metadata": {
    "collapsed": true
   },
   "outputs": [],
   "source": [
    "# Make a class to hold the runner info\n",
    "\n",
    "class Runner(object):\n",
    "    \"\"\"Class to describe entry.\"\"\"\n",
    "    def __init__(self, gun_position, race_num, firstname, surname, club, club_pos, \n",
    "                 category, category_pos, gun_time, chip_time, status):\n",
    "        self.gun_position = int(gun_position) # based off gun time\n",
    "        self.race_num = int(race_num)\n",
    "        self.firstname = firstname\n",
    "        self.surname = surname\n",
    "        self.name = \"%s %s\" % (self.firstname, self.surname)\n",
    "        self.club = club\n",
    "        self.club_pos = int(club_pos)\n",
    "        self.category = category\n",
    "        fmt = '%H:%M:%S'\n",
    "        # Gun time is the time differencce between the gun firing and the runner's finish\n",
    "        # incase there is a missing entry\n",
    "        self.gun_datetime = datetime.strptime(gun_time, fmt) if gun_time else datetime.max  \n",
    "        self.gun_time = self.gun_datetime.time()\n",
    "        # Chip time is the time difference between when runner crossing the start and finish lines\n",
    "        self.chip_datetime = datetime.strptime(chip_time, fmt) if chip_time else datetime.max\n",
    "        self.chip_time = self.chip_datetime.time()\n",
    "        self.gun_chip_delta = self.gun_datetime - self.chip_datetime # difference between gun time and chip time\n",
    "        self.status = status\n",
    "    \n",
    "    def json(self):\n",
    "        \"\"\"Method to convert to JSON output\"\"\"\n",
    "        pass"
   ]
  },
  {
   "cell_type": "code",
   "execution_count": 60,
   "metadata": {
    "collapsed": false,
    "scrolled": false
   },
   "outputs": [],
   "source": [
    "# Let's get all the rows!\n",
    "runner_table = []\n",
    "for child in raw_table.children:\n",
    "    if child.name != 'tr':\n",
    "        continue\n",
    "    row = {k:str(v.text) for k, v in zip(columns, child.children)}\n",
    "#     print row\n",
    "    runner = Runner(gun_position=row['Position'], race_num=row['Race No'], \n",
    "                    firstname=row['Firstname'], surname=row['Lastname'], \n",
    "                    club=row['Club'], club_pos=row['Club Pos'], \n",
    "                    category=row['Category'], category_pos=row['Cat Pos'], \n",
    "                    gun_time=row['Time'], chip_time=row['Chip Time'], \n",
    "                    status=row['Status'])\n",
    "    runner_table.append(runner)\n",
    "    "
   ]
  },
  {
   "cell_type": "code",
   "execution_count": 69,
   "metadata": {
    "collapsed": false
   },
   "outputs": [
    {
     "name": "stdout",
     "output_type": "stream",
     "text": [
      "Steve Way\n"
     ]
    },
    {
     "data": {
      "text/plain": [
       "{'category': 'M40+',\n",
       " 'chip_datetime': datetime.datetime(1900, 1, 1, 1, 12, 39),\n",
       " 'chip_time': datetime.time(1, 12, 39),\n",
       " 'club': 'Bournemouth AC',\n",
       " 'club_pos': 1,\n",
       " 'firstname': 'Steve',\n",
       " 'gun_chip_delta': datetime.timedelta(0),\n",
       " 'gun_datetime': datetime.datetime(1900, 1, 1, 1, 12, 39),\n",
       " 'gun_position': 1,\n",
       " 'gun_time': datetime.time(1, 12, 39),\n",
       " 'name': 'Steve Way',\n",
       " 'race_num': 2513,\n",
       " 'status': 'RES',\n",
       " 'surname': 'Way'}"
      ]
     },
     "execution_count": 69,
     "metadata": {},
     "output_type": "execute_result"
    }
   ],
   "source": [
    "print runner_table[0].name\n",
    "runner_table[0].__dict__"
   ]
  },
  {
   "cell_type": "markdown",
   "metadata": {},
   "source": [
    "# Analysis"
   ]
  },
  {
   "cell_type": "markdown",
   "metadata": {},
   "source": [
    "So now we have all the data in the table in our objects, stored in the list `runner_table`. This isn't very convenient for analysis though - let's uses a `pandas` DataFrame instead!"
   ]
  },
  {
   "cell_type": "code",
   "execution_count": 71,
   "metadata": {
    "collapsed": false
   },
   "outputs": [
    {
     "name": "stdout",
     "output_type": "stream",
     "text": [
      "Index([u'category', u'status', u'surname', u'name', u'firstname',\n",
      "       u'gun_position', u'gun_datetime', u'chip_datetime', u'club',\n",
      "       u'gun_time', u'chip_time', u'gun_chip_delta', u'race_num', u'club_pos'],\n",
      "      dtype='object')\n"
     ]
    }
   ],
   "source": [
    "df = pd.DataFrame(data=[x.__dict__ for x in runner_table], \n",
    "                  columns=runner_table[0].__dict__.keys())\n",
    "print df.columns"
   ]
  },
  {
   "cell_type": "markdown",
   "metadata": {},
   "source": [
    "We need to convert all the time elements to the correct type of object."
   ]
  },
  {
   "cell_type": "code",
   "execution_count": 64,
   "metadata": {
    "collapsed": false
   },
   "outputs": [
    {
     "name": "stdout",
     "output_type": "stream",
     "text": [
      "2306 runners\n"
     ]
    }
   ],
   "source": [
    "num_runners = len(df.index)\n",
    "print num_runners, 'runners'"
   ]
  },
  {
   "cell_type": "markdown",
   "metadata": {},
   "source": [
    "One thing we need to recalculate is position. The default 'position' we scraped is based off the _gun_ time, not the _chip_ time (which is much fairer)."
   ]
  },
  {
   "cell_type": "code",
   "execution_count": 65,
   "metadata": {
    "collapsed": true
   },
   "outputs": [],
   "source": [
    "df_male = df[df.category.str.contains('M')]\n",
    "df_female = df[df.category.str.contains('F')]"
   ]
  },
  {
   "cell_type": "code",
   "execution_count": 67,
   "metadata": {
    "collapsed": false
   },
   "outputs": [
    {
     "data": {
      "text/plain": [
       "<matplotlib.legend.Legend at 0x117543f90>"
      ]
     },
     "execution_count": 67,
     "metadata": {},
     "output_type": "execute_result"
    },
    {
     "data": {
      "image/png": "[encoded data removed]",
      "text/plain": [
       "<matplotlib.figure.Figure at 0x11f64f390>"
      ]
     },
     "metadata": {},
     "output_type": "display_data"
    }
   ],
   "source": [
    "pos = 'gun_position'\n",
    "nbins = 30\n",
    "lw = 2\n",
    "x_range = [0, num_runners]\n",
    "normed = False\n",
    "ax = df_male[pos].plot(kind='hist', bins=nbins, color='blue', \n",
    "                       normed=normed, histtype='step', \n",
    "                       label='Male', lw=lw, range=x_range)\n",
    "df_female[pos].plot(kind='hist', bins=nbins, color='green', \n",
    "                    ax=ax, normed=normed, histtype='step', \n",
    "                    label='Female', lw=lw, range=x_range)\n",
    "plt.xlabel('Position (acc. to gun time)')\n",
    "plt.ylabel(\"N / bin\")\n",
    "plt.xlim(right=num_runners)\n",
    "plt.legend(loc=0)\n",
    "# plt.show()"
   ]
  },
  {
   "cell_type": "code",
   "execution_count": null,
   "metadata": {
    "collapsed": true
   },
   "outputs": [],
   "source": []
  }
 ],
 "metadata": {
  "kernelspec": {
   "display_name": "Python 2",
   "language": "python",
   "name": "python2"
  },
  "language_info": {
   "codemirror_mode": {
    "name": "ipython",
    "version": 2
   },
   "file_extension": ".py",
   "mimetype": "text/x-python",
   "name": "python",
   "nbconvert_exporter": "python",
   "pygments_lexer": "ipython2",
   "version": "2.7.10"
  }
 },
 "nbformat": 4,
 "nbformat_minor": 0
}
